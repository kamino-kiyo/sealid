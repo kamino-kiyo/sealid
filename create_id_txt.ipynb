{
 "cells": [
  {
   "cell_type": "code",
   "execution_count": 1,
   "id": "14c9a126-afad-4029-83bc-83f92ddf19ee",
   "metadata": {},
   "outputs": [
    {
     "name": "stdout",
     "output_type": "stream",
     "text": [
      "68545_log20240605.log\n",
      "68545_log20240606.log\n",
      "68545_log20240607.log\n",
      "68545_log20240608.log\n",
      "68545_log20240609.log\n",
      "68545_log20240610.log\n",
      "68545_log20240611.log\n",
      "68545_log20240612.log\n",
      "68545_log20240613.log\n",
      "68545_log20240614.log\n",
      "68545_log20240615.log\n",
      "68545_log20240616.log\n",
      "68545_log20240617.log\n",
      "68545_log20240618.log\n",
      "end\n"
     ]
    }
   ],
   "source": [
    "### 事前準備\n",
    "### 過去の市場ログから14日間の現役シールIDを生成してファイル保存する\n",
    "import datetime\n",
    "import importnb\n",
    "with __import__('importnb').Notebook():\n",
    "    import func as f\n",
    "import os\n",
    "import random\n",
    "import re\n",
    "\n",
    "# 市場ログ置き場\n",
    "log_folder = 'log/68/'\n",
    "\n",
    "# 生成したシールIDの書き込み先\n",
    "txt_path = \"sealid/68.txt\"\n",
    "\n",
    "with open(txt_path, mode=\"w\") as txt:\n",
    "    \n",
    "    for log_file in os.listdir(log_folder):\n",
    "        print(log_file)\n",
    "\n",
    "        # ログファイル名から機器IDを抽出\n",
    "        machine_id = re.match(r'^([0-9]{5}).*', log_file).group(1)\n",
    "        \n",
    "        # ログファイル名から日付を抽出\n",
    "        m = re.match(r\".*([0-9]{4})([0-9]{2})([0-9]{2}).*\",log_file)\n",
    "        date = m.group(1) + '-' + m.group(2) + '-' + m.group(3) + \" \"\n",
    "    \n",
    "        with open(log_folder + log_file) as log_path:\n",
    "            # ログ1行ずつ処理\n",
    "            for log in log_path:\n",
    "                if re.search(r'.*GAMECTRL.*ゲーム開始.*',log):\n",
    "                    # ゲーム開始UNIX時間timestamp\n",
    "                    time = re.match(r'^\\[(.*)]',log).group(1)\n",
    "                    timestamp = int(datetime.datetime.fromisoformat(date + time).timestamp())\n",
    "    \n",
    "                    # TODO: 仕様確定次第ここ以下を適切に書き換えることになりそう？\n",
    "                    # 累積回数3桁：一旦適当に乱数（25進数変換が面倒なのでここを2桁にする）\n",
    "                    play_count = random.randint(0,99)\n",
    "                    \n",
    "                    # モード1桁：0固定\n",
    "                    mode = 0\n",
    "        \n",
    "                    # 日付＋機器ID＋乱数＋チェックサムをつなげる\n",
    "                    seal_id = str(timestamp) + str(machine_id) + str(play_count).zfill(2) + str(mode)\n",
    "                    seal_id = seal_id + str(f.get_checksum(seal_id)).zfill(2)\n",
    "                    \n",
    "                    # 並べ替える\n",
    "                    seal_id = f.shuffle_index(seal_id,f.INDEX_TABLE_20)\n",
    "    \n",
    "                    # 26進数変換\n",
    "                    seal_id = f.decimal_to_id(int(seal_id))\n",
    "    \n",
    "                    # ファイルに書き込み\n",
    "                    txt.write(seal_id + \"\\r\\n\")\n",
    "\n",
    "print('end')"
   ]
  }
 ],
 "metadata": {
  "kernelspec": {
   "display_name": "Python 3 (ipykernel)",
   "language": "python",
   "name": "python3"
  },
  "language_info": {
   "codemirror_mode": {
    "name": "ipython",
    "version": 3
   },
   "file_extension": ".py",
   "mimetype": "text/x-python",
   "name": "python",
   "nbconvert_exporter": "python",
   "pygments_lexer": "ipython3",
   "version": "3.12.3"
  }
 },
 "nbformat": 4,
 "nbformat_minor": 5
}
