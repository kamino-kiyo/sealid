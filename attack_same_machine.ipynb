{
 "cells": [
  {
   "cell_type": "code",
   "execution_count": 18,
   "id": "17dbd2da-604b-427d-9535-5dd1a8bd9403",
   "metadata": {},
   "outputs": [],
   "source": [
    "### シールIDの仕様が完全に見破られている前提で、\n",
    "### 機器IDは固定で他のパラメータ網羅し現役IDに当たるまで試行\n",
    "\n",
    "import importnb\n",
    "with __import__('importnb').Notebook():\n",
    "    import func as f\n",
    "    # https://mlmlai.com/python-import-ipynb/\n",
    "\n",
    "# 現役シールIDのリスト\n",
    "# TODO: どこか2,3店舗のログを抽出して、実際にシールID作ってみるのがよさそう\n",
    "#       CSVか何かに保存して読み込む\n",
    "\n",
    "\n",
    "def attack(machine_id):\n",
    "    count = 0\n",
    "    \n",
    "    # プレイ時間網羅\n",
    "\n",
    "    # 累積回数網羅\n",
    "\n",
    "    # モード網羅\n",
    "\n"
   ]
  }
 ],
 "metadata": {
  "kernelspec": {
   "display_name": "Python 3 (ipykernel)",
   "language": "python",
   "name": "python3"
  },
  "language_info": {
   "codemirror_mode": {
    "name": "ipython",
    "version": 3
   },
   "file_extension": ".py",
   "mimetype": "text/x-python",
   "name": "python",
   "nbconvert_exporter": "python",
   "pygments_lexer": "ipython3",
   "version": "3.12.3"
  }
 },
 "nbformat": 4,
 "nbformat_minor": 5
}
