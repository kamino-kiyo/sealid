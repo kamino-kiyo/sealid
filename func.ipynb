{
 "cells": [
  {
   "cell_type": "code",
   "execution_count": 1,
   "id": "7755eef2-0b41-4dd8-a991-3ded54da6dfc",
   "metadata": {},
   "outputs": [],
   "source": [
    "import random\n",
    "\n",
    "# シールIDに使っている文字列をランダムに並び替えるテーブル\n",
    "BASE_TABLE = [\"F\",\"S\",\"L\",\"G\",\"J\",\"X\",\"R\",\"K\",\"C\",\"I\",\"Q\",\"Z\",\"V\",\"A\",\"M\",\"W\",\"U\",\"N\",\"T\",\"B\",\"E\",\"H\",\"P\",\"O\",\"Y\",\"D\"]\n",
    "\n",
    "# 26進数(英字)表記を10進数に変換\n",
    "def id_to_decimal(src):\n",
    "    # 下の桁から計算したいので文字列を逆順にする\n",
    "    reverse_src = ''.join(list(reversed(src)))\n",
    "    \n",
    "    dst = 0\n",
    "    count = 0\n",
    "    for letter in reverse_src:\n",
    "        dst += BASE_TABLE.index(letter) * len(BASE_TABLE) ** count\n",
    "        count += 1\n",
    "    return dst\n",
    "\n",
    "# 存在するシールIDかどうかのチェック関数\n",
    "def is_exist_seal_id(id):\n",
    "    # 入力文字列を10進数に変換\n",
    "    decimal_id = id_to_decimal(id)\n",
    "\n",
    "    # チェックサムが正常かどうか\n",
    "    id_data = str(decimal_id)[:-2]\n",
    "    checksum = str(decimal_id)[-2:]\n",
    "\n",
    "    sum = 0\n",
    "    for letter in str(decimal_id)[:-2]:\n",
    "        sum += int(letter)\n",
    "    \n",
    "    print(\"==========\")\n",
    "    print(decimal_id)\n",
    "    print(id_data)\n",
    "    print(checksum)\n",
    "    print(sum)\n",
    "    \n",
    "    if sum != checksum:\n",
    "        return False\n",
    "    \n",
    "    # 先頭10文字を日付に変換して、直近14日以内かどうか\n",
    "\n",
    "    # 次の5文字が機器IDかどうか\n",
    "\n",
    "    # 全部OKならシールID判定\n",
    "    return True\n",
    "\n",
    "# BASE_TABLEの内容をランダムに使って文字列を生成する\n",
    "def create_random_basetable_str(length):\n",
    "    return \"\".join([BASE_TABLE[random.randrange(len(BASE_TABLE))] for length in range(length)])"
   ]
  }
 ],
 "metadata": {
  "kernelspec": {
   "display_name": "Python 3 (ipykernel)",
   "language": "python",
   "name": "python3"
  },
  "language_info": {
   "codemirror_mode": {
    "name": "ipython",
    "version": 3
   },
   "file_extension": ".py",
   "mimetype": "text/x-python",
   "name": "python",
   "nbconvert_exporter": "python",
   "pygments_lexer": "ipython3",
   "version": "3.12.3"
  }
 },
 "nbformat": 4,
 "nbformat_minor": 5
}
